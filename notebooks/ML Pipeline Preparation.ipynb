{
 "cells": [
  {
   "cell_type": "markdown",
   "metadata": {},
   "source": [
    "# ML Pipeline Preparation\n",
    "Follow the instructions below to help you create your ML pipeline.\n",
    "### 1. Import libraries and load data from database.\n",
    "- Import Python libraries\n",
    "- Load dataset from database with [`read_sql_table`](https://pandas.pydata.org/pandas-docs/stable/generated/pandas.read_sql_table.html)\n",
    "- Define feature and target variables X and Y"
   ]
  },
  {
   "cell_type": "code",
   "execution_count": 2,
   "metadata": {},
   "outputs": [],
   "source": [
    "# import libraries\n",
    "import pandas as pd\n",
    "import numpy as np\n",
    "from sqlalchemy import create_engine\n"
   ]
  },
  {
   "cell_type": "code",
   "execution_count": 3,
   "metadata": {},
   "outputs": [],
   "source": [
    "# load data from database\n",
    "engine = create_engine('sqlite:///Messages.db')\n",
    "df = pd.read_sql(\"SELECT * FROM Messages\", engine)\n",
    "X = df['message']\n",
    "Y = df.drop(['id', 'message', 'original', 'genre'], axis = 1)"
   ]
  },
  {
   "cell_type": "markdown",
   "metadata": {},
   "source": [
    "### 2. Write a tokenization function to process your text data"
   ]
  },
  {
   "cell_type": "code",
   "execution_count": 4,
   "metadata": {},
   "outputs": [
    {
     "name": "stdout",
     "output_type": "stream",
     "text": [
      "[nltk_data] Downloading package punkt to /root/nltk_data...\n",
      "[nltk_data]   Unzipping tokenizers/punkt.zip.\n",
      "[nltk_data] Downloading package wordnet to /root/nltk_data...\n",
      "[nltk_data]   Unzipping corpora/wordnet.zip.\n",
      "[nltk_data] Downloading package stopwords to /root/nltk_data...\n",
      "[nltk_data]   Unzipping corpora/stopwords.zip.\n"
     ]
    }
   ],
   "source": [
    "import nltk\n",
    "nltk.download('punkt')\n",
    "nltk.download('wordnet')\n",
    "nltk.download('stopwords')\n",
    "from nltk.tokenize import word_tokenize\n",
    "import re\n",
    "from nltk.corpus import stopwords\n",
    "from nltk.stem import WordNetLemmatizer\n",
    "def tokenize(text):\n",
    "    stop_words = stopwords.words(\"english\")\n",
    "    lemmatizer = WordNetLemmatizer()\n",
    "    text = re.sub(r\"[^a-zA-Z0-9]\",\" \", text.lower())\n",
    "    tokens = word_tokenize(text)\n",
    "    tokens = [lemmatizer.lemmatize(word) for word in tokens if word not in stop_words]\n",
    "    return tokens"
   ]
  },
  {
   "cell_type": "markdown",
   "metadata": {},
   "source": [
    "### 3. Build a machine learning pipeline\n",
    "This machine pipeline should take in the `message` column as input and output classification results on the other 36 categories in the dataset. You may find the [MultiOutputClassifier](http://scikit-learn.org/stable/modules/generated/sklearn.multioutput.MultiOutputClassifier.html) helpful for predicting multiple target variables."
   ]
  },
  {
   "cell_type": "code",
   "execution_count": 5,
   "metadata": {},
   "outputs": [],
   "source": [
    "from sklearn.pipeline import Pipeline,FeatureUnion\n",
    "from sklearn.ensemble import RandomForestClassifier\n",
    "from sklearn.feature_extraction.text import CountVectorizer,TfidfTransformer\n",
    "from sklearn.multioutput import MultiOutputClassifier\n",
    "pipeline = Pipeline([\n",
    "    ('vect',CountVectorizer(tokenizer=tokenize)),\n",
    "    ('tfidf',TfidfTransformer()),\n",
    "    ('clf',MultiOutputClassifier(RandomForestClassifier()))\n",
    "])"
   ]
  },
  {
   "cell_type": "markdown",
   "metadata": {},
   "source": [
    "### 4. Train pipeline\n",
    "- Split data into train and test sets\n",
    "- Train pipeline"
   ]
  },
  {
   "cell_type": "code",
   "execution_count": 6,
   "metadata": {},
   "outputs": [
    {
     "data": {
      "text/plain": [
       "Pipeline(memory=None,\n",
       "     steps=[('vect', CountVectorizer(analyzer='word', binary=False, decode_error='strict',\n",
       "        dtype=<class 'numpy.int64'>, encoding='utf-8', input='content',\n",
       "        lowercase=True, max_df=1.0, max_features=None, min_df=1,\n",
       "        ngram_range=(1, 1), preprocessor=None, stop_words=None,\n",
       "        strip...oob_score=False, random_state=None, verbose=0,\n",
       "            warm_start=False),\n",
       "           n_jobs=1))])"
      ]
     },
     "execution_count": 6,
     "metadata": {},
     "output_type": "execute_result"
    }
   ],
   "source": [
    "from sklearn.model_selection import train_test_split\n",
    "X_train,X_test,y_train,y_test = train_test_split(X,Y,random_state=1)\n",
    "pipeline.fit(X_train,y_train)"
   ]
  },
  {
   "cell_type": "markdown",
   "metadata": {},
   "source": [
    "### 5. Test your model\n",
    "Report the f1 score, precision and recall for each output category of the dataset. You can do this by iterating through the columns and calling sklearn's `classification_report` on each."
   ]
  },
  {
   "cell_type": "code",
   "execution_count": 7,
   "metadata": {},
   "outputs": [],
   "source": [
    "from sklearn.metrics import classification_report\n",
    "y_pred = pipeline.predict(X_test)\n"
   ]
  },
  {
   "cell_type": "code",
   "execution_count": 8,
   "metadata": {},
   "outputs": [
    {
     "name": "stdout",
     "output_type": "stream",
     "text": [
      "related\n",
      "             precision    recall  f1-score   support\n",
      "\n",
      "          0       0.64      0.47      0.54      1550\n",
      "          1       0.84      0.92      0.88      4951\n",
      "          2       0.80      0.08      0.14        53\n",
      "\n",
      "avg / total       0.79      0.81      0.79      6554\n",
      "\n",
      "request\n",
      "             precision    recall  f1-score   support\n",
      "\n",
      "          0       0.90      0.97      0.93      5415\n",
      "          1       0.79      0.47      0.59      1139\n",
      "\n",
      "avg / total       0.88      0.89      0.87      6554\n",
      "\n",
      "offer\n",
      "             precision    recall  f1-score   support\n",
      "\n",
      "          0       1.00      1.00      1.00      6528\n",
      "          1       0.00      0.00      0.00        26\n",
      "\n",
      "avg / total       0.99      1.00      0.99      6554\n",
      "\n",
      "aid_related\n",
      "             precision    recall  f1-score   support\n",
      "\n",
      "          0       0.75      0.85      0.80      3815\n",
      "          1       0.74      0.60      0.66      2739\n",
      "\n",
      "avg / total       0.75      0.75      0.74      6554\n",
      "\n",
      "medical_help\n"
     ]
    },
    {
     "name": "stderr",
     "output_type": "stream",
     "text": [
      "/opt/conda/lib/python3.6/site-packages/sklearn/metrics/classification.py:1135: UndefinedMetricWarning: Precision and F-score are ill-defined and being set to 0.0 in labels with no predicted samples.\n",
      "  'precision', 'predicted', average, warn_for)\n"
     ]
    },
    {
     "name": "stdout",
     "output_type": "stream",
     "text": [
      "             precision    recall  f1-score   support\n",
      "\n",
      "          0       0.92      0.99      0.96      6001\n",
      "          1       0.62      0.11      0.19       553\n",
      "\n",
      "avg / total       0.90      0.92      0.89      6554\n",
      "\n",
      "medical_products\n",
      "             precision    recall  f1-score   support\n",
      "\n",
      "          0       0.95      1.00      0.97      6205\n",
      "          1       0.78      0.11      0.19       349\n",
      "\n",
      "avg / total       0.94      0.95      0.93      6554\n",
      "\n",
      "search_and_rescue\n",
      "             precision    recall  f1-score   support\n",
      "\n",
      "          0       0.98      1.00      0.99      6387\n",
      "          1       0.43      0.06      0.11       167\n",
      "\n",
      "avg / total       0.96      0.97      0.96      6554\n",
      "\n",
      "security\n",
      "             precision    recall  f1-score   support\n",
      "\n",
      "          0       0.98      1.00      0.99      6442\n",
      "          1       0.00      0.00      0.00       112\n",
      "\n",
      "avg / total       0.97      0.98      0.97      6554\n",
      "\n",
      "military\n",
      "             precision    recall  f1-score   support\n",
      "\n",
      "          0       0.97      1.00      0.99      6364\n",
      "          1       0.56      0.08      0.14       190\n",
      "\n",
      "avg / total       0.96      0.97      0.96      6554\n",
      "\n",
      "child_alone\n",
      "             precision    recall  f1-score   support\n",
      "\n",
      "          0       1.00      1.00      1.00      6554\n",
      "\n",
      "avg / total       1.00      1.00      1.00      6554\n",
      "\n",
      "water\n",
      "             precision    recall  f1-score   support\n",
      "\n",
      "          0       0.95      1.00      0.97      6124\n",
      "          1       0.86      0.31      0.46       430\n",
      "\n",
      "avg / total       0.95      0.95      0.94      6554\n",
      "\n",
      "food\n",
      "             precision    recall  f1-score   support\n",
      "\n",
      "          0       0.94      0.99      0.96      5800\n",
      "          1       0.84      0.49      0.62       754\n",
      "\n",
      "avg / total       0.93      0.93      0.92      6554\n",
      "\n",
      "shelter\n",
      "             precision    recall  f1-score   support\n",
      "\n",
      "          0       0.93      0.99      0.96      5978\n",
      "          1       0.79      0.26      0.39       576\n",
      "\n",
      "avg / total       0.92      0.93      0.91      6554\n",
      "\n",
      "clothing\n",
      "             precision    recall  f1-score   support\n",
      "\n",
      "          0       0.99      1.00      0.99      6455\n",
      "          1       0.92      0.12      0.21        99\n",
      "\n",
      "avg / total       0.99      0.99      0.98      6554\n",
      "\n",
      "money\n",
      "             precision    recall  f1-score   support\n",
      "\n",
      "          0       0.98      1.00      0.99      6413\n",
      "          1       0.67      0.04      0.08       141\n",
      "\n",
      "avg / total       0.97      0.98      0.97      6554\n",
      "\n",
      "missing_people\n",
      "             precision    recall  f1-score   support\n",
      "\n",
      "          0       0.99      1.00      0.99      6474\n",
      "          1       0.00      0.00      0.00        80\n",
      "\n",
      "avg / total       0.98      0.99      0.98      6554\n",
      "\n",
      "refugees\n",
      "             precision    recall  f1-score   support\n",
      "\n",
      "          0       0.97      1.00      0.98      6338\n",
      "          1       0.63      0.10      0.18       216\n",
      "\n",
      "avg / total       0.96      0.97      0.96      6554\n",
      "\n",
      "death\n",
      "             precision    recall  f1-score   support\n",
      "\n",
      "          0       0.97      1.00      0.98      6267\n",
      "          1       0.80      0.26      0.39       287\n",
      "\n",
      "avg / total       0.96      0.96      0.96      6554\n",
      "\n",
      "other_aid\n",
      "             precision    recall  f1-score   support\n",
      "\n",
      "          0       0.87      0.99      0.93      5665\n",
      "          1       0.55      0.04      0.08       889\n",
      "\n",
      "avg / total       0.83      0.87      0.81      6554\n",
      "\n",
      "infrastructure_related\n",
      "             precision    recall  f1-score   support\n",
      "\n",
      "          0       0.94      1.00      0.97      6133\n",
      "          1       0.25      0.01      0.01       421\n",
      "\n",
      "avg / total       0.89      0.93      0.91      6554\n",
      "\n",
      "transport\n",
      "             precision    recall  f1-score   support\n",
      "\n",
      "          0       0.96      1.00      0.98      6258\n",
      "          1       0.69      0.08      0.15       296\n",
      "\n",
      "avg / total       0.95      0.96      0.94      6554\n",
      "\n",
      "buildings\n",
      "             precision    recall  f1-score   support\n",
      "\n",
      "          0       0.95      1.00      0.97      6199\n",
      "          1       0.75      0.15      0.25       355\n",
      "\n",
      "avg / total       0.94      0.95      0.94      6554\n",
      "\n",
      "electricity\n",
      "             precision    recall  f1-score   support\n",
      "\n",
      "          0       0.98      1.00      0.99      6417\n",
      "          1       0.70      0.10      0.18       137\n",
      "\n",
      "avg / total       0.98      0.98      0.97      6554\n",
      "\n",
      "tools\n",
      "             precision    recall  f1-score   support\n",
      "\n",
      "          0       0.99      1.00      1.00      6516\n",
      "          1       0.00      0.00      0.00        38\n",
      "\n",
      "avg / total       0.99      0.99      0.99      6554\n",
      "\n",
      "hospitals\n",
      "             precision    recall  f1-score   support\n",
      "\n",
      "          0       0.99      1.00      0.99      6488\n",
      "          1       0.00      0.00      0.00        66\n",
      "\n",
      "avg / total       0.98      0.99      0.98      6554\n",
      "\n",
      "shops\n",
      "             precision    recall  f1-score   support\n",
      "\n",
      "          0       1.00      1.00      1.00      6526\n",
      "          1       0.00      0.00      0.00        28\n",
      "\n",
      "avg / total       0.99      1.00      0.99      6554\n",
      "\n",
      "aid_centers\n",
      "             precision    recall  f1-score   support\n",
      "\n",
      "          0       0.99      1.00      0.99      6483\n",
      "          1       0.00      0.00      0.00        71\n",
      "\n",
      "avg / total       0.98      0.99      0.98      6554\n",
      "\n",
      "other_infrastructure\n",
      "             precision    recall  f1-score   support\n",
      "\n",
      "          0       0.96      1.00      0.98      6265\n",
      "          1       0.12      0.00      0.01       289\n",
      "\n",
      "avg / total       0.92      0.95      0.93      6554\n",
      "\n",
      "weather_related\n",
      "             precision    recall  f1-score   support\n",
      "\n",
      "          0       0.87      0.96      0.91      4744\n",
      "          1       0.84      0.61      0.71      1810\n",
      "\n",
      "avg / total       0.86      0.86      0.85      6554\n",
      "\n",
      "floods\n",
      "             precision    recall  f1-score   support\n",
      "\n",
      "          0       0.94      1.00      0.97      6008\n",
      "          1       0.86      0.35      0.49       546\n",
      "\n",
      "avg / total       0.94      0.94      0.93      6554\n",
      "\n",
      "storm\n",
      "             precision    recall  f1-score   support\n",
      "\n",
      "          0       0.94      0.99      0.96      5928\n",
      "          1       0.78      0.39      0.52       626\n",
      "\n",
      "avg / total       0.92      0.93      0.92      6554\n",
      "\n",
      "fire\n",
      "             precision    recall  f1-score   support\n",
      "\n",
      "          0       0.99      1.00      0.99      6479\n",
      "          1       0.00      0.00      0.00        75\n",
      "\n",
      "avg / total       0.98      0.99      0.98      6554\n",
      "\n",
      "earthquake\n",
      "             precision    recall  f1-score   support\n",
      "\n",
      "          0       0.97      0.99      0.98      5959\n",
      "          1       0.87      0.71      0.78       595\n",
      "\n",
      "avg / total       0.96      0.96      0.96      6554\n",
      "\n",
      "cold\n",
      "             precision    recall  f1-score   support\n",
      "\n",
      "          0       0.98      1.00      0.99      6437\n",
      "          1       0.59      0.09      0.15       117\n",
      "\n",
      "avg / total       0.98      0.98      0.98      6554\n",
      "\n",
      "other_weather\n",
      "             precision    recall  f1-score   support\n",
      "\n",
      "          0       0.95      1.00      0.97      6219\n",
      "          1       0.59      0.03      0.06       335\n",
      "\n",
      "avg / total       0.93      0.95      0.93      6554\n",
      "\n",
      "direct_report\n",
      "             precision    recall  f1-score   support\n",
      "\n",
      "          0       0.86      0.97      0.91      5245\n",
      "          1       0.73      0.35      0.47      1309\n",
      "\n",
      "avg / total       0.83      0.84      0.82      6554\n",
      "\n"
     ]
    }
   ],
   "source": [
    "for i,col in enumerate(y_test):\n",
    "    print(col)\n",
    "    print(classification_report(y_test[col],y_pred[:,i]))"
   ]
  },
  {
   "cell_type": "markdown",
   "metadata": {},
   "source": [
    "### 6. Improve your model\n",
    "Use grid search to find better parameters. "
   ]
  },
  {
   "cell_type": "code",
   "execution_count": 9,
   "metadata": {},
   "outputs": [
    {
     "data": {
      "text/plain": [
       "{'memory': None,\n",
       " 'steps': [('vect',\n",
       "   CountVectorizer(analyzer='word', binary=False, decode_error='strict',\n",
       "           dtype=<class 'numpy.int64'>, encoding='utf-8', input='content',\n",
       "           lowercase=True, max_df=1.0, max_features=None, min_df=1,\n",
       "           ngram_range=(1, 1), preprocessor=None, stop_words=None,\n",
       "           strip_accents=None, token_pattern='(?u)\\\\b\\\\w\\\\w+\\\\b',\n",
       "           tokenizer=<function tokenize at 0x7fefb7909950>, vocabulary=None)),\n",
       "  ('tfidf',\n",
       "   TfidfTransformer(norm='l2', smooth_idf=True, sublinear_tf=False, use_idf=True)),\n",
       "  ('clf',\n",
       "   MultiOutputClassifier(estimator=RandomForestClassifier(bootstrap=True, class_weight=None, criterion='gini',\n",
       "               max_depth=None, max_features='auto', max_leaf_nodes=None,\n",
       "               min_impurity_decrease=0.0, min_impurity_split=None,\n",
       "               min_samples_leaf=1, min_samples_split=2,\n",
       "               min_weight_fraction_leaf=0.0, n_estimators=10, n_jobs=1,\n",
       "               oob_score=False, random_state=None, verbose=0,\n",
       "               warm_start=False),\n",
       "              n_jobs=1))],\n",
       " 'vect': CountVectorizer(analyzer='word', binary=False, decode_error='strict',\n",
       "         dtype=<class 'numpy.int64'>, encoding='utf-8', input='content',\n",
       "         lowercase=True, max_df=1.0, max_features=None, min_df=1,\n",
       "         ngram_range=(1, 1), preprocessor=None, stop_words=None,\n",
       "         strip_accents=None, token_pattern='(?u)\\\\b\\\\w\\\\w+\\\\b',\n",
       "         tokenizer=<function tokenize at 0x7fefb7909950>, vocabulary=None),\n",
       " 'tfidf': TfidfTransformer(norm='l2', smooth_idf=True, sublinear_tf=False, use_idf=True),\n",
       " 'clf': MultiOutputClassifier(estimator=RandomForestClassifier(bootstrap=True, class_weight=None, criterion='gini',\n",
       "             max_depth=None, max_features='auto', max_leaf_nodes=None,\n",
       "             min_impurity_decrease=0.0, min_impurity_split=None,\n",
       "             min_samples_leaf=1, min_samples_split=2,\n",
       "             min_weight_fraction_leaf=0.0, n_estimators=10, n_jobs=1,\n",
       "             oob_score=False, random_state=None, verbose=0,\n",
       "             warm_start=False),\n",
       "            n_jobs=1),\n",
       " 'vect__analyzer': 'word',\n",
       " 'vect__binary': False,\n",
       " 'vect__decode_error': 'strict',\n",
       " 'vect__dtype': numpy.int64,\n",
       " 'vect__encoding': 'utf-8',\n",
       " 'vect__input': 'content',\n",
       " 'vect__lowercase': True,\n",
       " 'vect__max_df': 1.0,\n",
       " 'vect__max_features': None,\n",
       " 'vect__min_df': 1,\n",
       " 'vect__ngram_range': (1, 1),\n",
       " 'vect__preprocessor': None,\n",
       " 'vect__stop_words': None,\n",
       " 'vect__strip_accents': None,\n",
       " 'vect__token_pattern': '(?u)\\\\b\\\\w\\\\w+\\\\b',\n",
       " 'vect__tokenizer': <function __main__.tokenize(text)>,\n",
       " 'vect__vocabulary': None,\n",
       " 'tfidf__norm': 'l2',\n",
       " 'tfidf__smooth_idf': True,\n",
       " 'tfidf__sublinear_tf': False,\n",
       " 'tfidf__use_idf': True,\n",
       " 'clf__estimator__bootstrap': True,\n",
       " 'clf__estimator__class_weight': None,\n",
       " 'clf__estimator__criterion': 'gini',\n",
       " 'clf__estimator__max_depth': None,\n",
       " 'clf__estimator__max_features': 'auto',\n",
       " 'clf__estimator__max_leaf_nodes': None,\n",
       " 'clf__estimator__min_impurity_decrease': 0.0,\n",
       " 'clf__estimator__min_impurity_split': None,\n",
       " 'clf__estimator__min_samples_leaf': 1,\n",
       " 'clf__estimator__min_samples_split': 2,\n",
       " 'clf__estimator__min_weight_fraction_leaf': 0.0,\n",
       " 'clf__estimator__n_estimators': 10,\n",
       " 'clf__estimator__n_jobs': 1,\n",
       " 'clf__estimator__oob_score': False,\n",
       " 'clf__estimator__random_state': None,\n",
       " 'clf__estimator__verbose': 0,\n",
       " 'clf__estimator__warm_start': False,\n",
       " 'clf__estimator': RandomForestClassifier(bootstrap=True, class_weight=None, criterion='gini',\n",
       "             max_depth=None, max_features='auto', max_leaf_nodes=None,\n",
       "             min_impurity_decrease=0.0, min_impurity_split=None,\n",
       "             min_samples_leaf=1, min_samples_split=2,\n",
       "             min_weight_fraction_leaf=0.0, n_estimators=10, n_jobs=1,\n",
       "             oob_score=False, random_state=None, verbose=0,\n",
       "             warm_start=False),\n",
       " 'clf__n_jobs': 1}"
      ]
     },
     "execution_count": 9,
     "metadata": {},
     "output_type": "execute_result"
    }
   ],
   "source": [
    "pipeline.get_params()"
   ]
  },
  {
   "cell_type": "code",
   "execution_count": 10,
   "metadata": {},
   "outputs": [
    {
     "data": {
      "text/plain": [
       "0.94452497202726071"
      ]
     },
     "execution_count": 10,
     "metadata": {},
     "output_type": "execute_result"
    }
   ],
   "source": [
    "\"\"\"clf__estimator__n_estimators\n",
    "clf__estimator__min_samples_leaf\n",
    "clf__estimator__max_features\n",
    "clf__estimator__min_samples_split\n",
    "tfidf__use_idf\n",
    "vect__max_df\"\"\"\n",
    "from sklearn.metrics import accuracy_score,make_scorer\n",
    "def scores(y_t,y_p):\n",
    "    accuracy=[]\n",
    "    for i,col in enumerate(y_t):\n",
    "        accuracy.append(accuracy_score(y_t[col],y_p[:,i]))\n",
    "    score=np.mean(accuracy)\n",
    "    return score\n",
    "scores(y_test,y_pred)"
   ]
  },
  {
   "cell_type": "code",
   "execution_count": 12,
   "metadata": {},
   "outputs": [],
   "source": [
    "from sklearn.model_selection import GridSearchCV\n",
    "parameters = {\n",
    "    'clf__estimator__n_estimators': [10,25],\n",
    "    'clf__estimator__max_features': ['auto','log2'],\n",
    "    'clf__estimator__min_samples_split':[2,4],\n",
    "    'tfidf__use_idf':['True','False'],\n",
    "    'vect__max_df':[0.8,1.0]\n",
    "}\n",
    "scorer = make_scorer(scores)\n",
    "cv = GridSearchCV(pipeline, param_grid = parameters, scoring = scorer,verbose =10,n_jobs=-1)"
   ]
  },
  {
   "cell_type": "code",
   "execution_count": 13,
   "metadata": {},
   "outputs": [
    {
     "name": "stdout",
     "output_type": "stream",
     "text": [
      "Fitting 3 folds for each of 32 candidates, totalling 96 fits\n",
      "[CV] clf__estimator__max_features=auto, clf__estimator__min_samples_split=2, clf__estimator__n_estimators=10, tfidf__use_idf=True, vect__max_df=0.8 \n",
      "[CV]  clf__estimator__max_features=auto, clf__estimator__min_samples_split=2, clf__estimator__n_estimators=10, tfidf__use_idf=True, vect__max_df=0.8, score=0.943961278947547, total=  51.0s\n",
      "[CV] clf__estimator__max_features=auto, clf__estimator__min_samples_split=2, clf__estimator__n_estimators=10, tfidf__use_idf=True, vect__max_df=0.8 \n"
     ]
    },
    {
     "name": "stderr",
     "output_type": "stream",
     "text": [
      "[Parallel(n_jobs=-1)]: Done   1 out of   1 | elapsed:  1.1min remaining:    0.0s\n"
     ]
    },
    {
     "name": "stdout",
     "output_type": "stream",
     "text": [
      "[CV]  clf__estimator__max_features=auto, clf__estimator__min_samples_split=2, clf__estimator__n_estimators=10, tfidf__use_idf=True, vect__max_df=0.8, score=0.9443088190418067, total=  51.0s\n",
      "[CV] clf__estimator__max_features=auto, clf__estimator__min_samples_split=2, clf__estimator__n_estimators=10, tfidf__use_idf=True, vect__max_df=0.8 \n"
     ]
    },
    {
     "name": "stderr",
     "output_type": "stream",
     "text": [
      "[Parallel(n_jobs=-1)]: Done   2 out of   2 | elapsed:  2.1min remaining:    0.0s\n"
     ]
    },
    {
     "name": "stdout",
     "output_type": "stream",
     "text": [
      "[CV]  clf__estimator__max_features=auto, clf__estimator__min_samples_split=2, clf__estimator__n_estimators=10, tfidf__use_idf=True, vect__max_df=0.8, score=0.9437324110805955, total=  50.7s\n",
      "[CV] clf__estimator__max_features=auto, clf__estimator__min_samples_split=2, clf__estimator__n_estimators=10, tfidf__use_idf=True, vect__max_df=1.0 \n"
     ]
    },
    {
     "name": "stderr",
     "output_type": "stream",
     "text": [
      "[Parallel(n_jobs=-1)]: Done   3 out of   3 | elapsed:  3.2min remaining:    0.0s\n"
     ]
    },
    {
     "name": "stdout",
     "output_type": "stream",
     "text": [
      "[CV]  clf__estimator__max_features=auto, clf__estimator__min_samples_split=2, clf__estimator__n_estimators=10, tfidf__use_idf=True, vect__max_df=1.0, score=0.944020615061201, total=  50.7s\n",
      "[CV] clf__estimator__max_features=auto, clf__estimator__min_samples_split=2, clf__estimator__n_estimators=10, tfidf__use_idf=True, vect__max_df=1.0 \n"
     ]
    },
    {
     "name": "stderr",
     "output_type": "stream",
     "text": [
      "[Parallel(n_jobs=-1)]: Done   4 out of   4 | elapsed:  4.2min remaining:    0.0s\n"
     ]
    },
    {
     "name": "stdout",
     "output_type": "stream",
     "text": [
      "[CV]  clf__estimator__max_features=auto, clf__estimator__min_samples_split=2, clf__estimator__n_estimators=10, tfidf__use_idf=True, vect__max_df=1.0, score=0.9439485640660497, total=  50.6s\n",
      "[CV] clf__estimator__max_features=auto, clf__estimator__min_samples_split=2, clf__estimator__n_estimators=10, tfidf__use_idf=True, vect__max_df=1.0 \n"
     ]
    },
    {
     "name": "stderr",
     "output_type": "stream",
     "text": [
      "[Parallel(n_jobs=-1)]: Done   5 out of   5 | elapsed:  5.3min remaining:    0.0s\n"
     ]
    },
    {
     "name": "stdout",
     "output_type": "stream",
     "text": [
      "[CV]  clf__estimator__max_features=auto, clf__estimator__min_samples_split=2, clf__estimator__n_estimators=10, tfidf__use_idf=True, vect__max_df=1.0, score=0.9436900281422711, total=  50.2s\n",
      "[CV] clf__estimator__max_features=auto, clf__estimator__min_samples_split=2, clf__estimator__n_estimators=10, tfidf__use_idf=False, vect__max_df=0.8 \n"
     ]
    },
    {
     "name": "stderr",
     "output_type": "stream",
     "text": [
      "[Parallel(n_jobs=-1)]: Done   6 out of   6 | elapsed:  6.3min remaining:    0.0s\n"
     ]
    },
    {
     "name": "stdout",
     "output_type": "stream",
     "text": [
      "[CV]  clf__estimator__max_features=auto, clf__estimator__min_samples_split=2, clf__estimator__n_estimators=10, tfidf__use_idf=False, vect__max_df=0.8, score=0.9446521208422338, total=  50.5s\n",
      "[CV] clf__estimator__max_features=auto, clf__estimator__min_samples_split=2, clf__estimator__n_estimators=10, tfidf__use_idf=False, vect__max_df=0.8 \n"
     ]
    },
    {
     "name": "stderr",
     "output_type": "stream",
     "text": [
      "[Parallel(n_jobs=-1)]: Done   7 out of   7 | elapsed:  7.4min remaining:    0.0s\n"
     ]
    },
    {
     "name": "stdout",
     "output_type": "stream",
     "text": [
      "[CV]  clf__estimator__max_features=auto, clf__estimator__min_samples_split=2, clf__estimator__n_estimators=10, tfidf__use_idf=False, vect__max_df=0.8, score=0.9438298918387417, total=  50.9s\n",
      "[CV] clf__estimator__max_features=auto, clf__estimator__min_samples_split=2, clf__estimator__n_estimators=10, tfidf__use_idf=False, vect__max_df=0.8 \n"
     ]
    },
    {
     "name": "stderr",
     "output_type": "stream",
     "text": [
      "[Parallel(n_jobs=-1)]: Done   8 out of   8 | elapsed:  8.5min remaining:    0.0s\n"
     ]
    },
    {
     "name": "stdout",
     "output_type": "stream",
     "text": [
      "[CV]  clf__estimator__max_features=auto, clf__estimator__min_samples_split=2, clf__estimator__n_estimators=10, tfidf__use_idf=False, vect__max_df=0.8, score=0.9434314922184927, total=  51.3s\n",
      "[CV] clf__estimator__max_features=auto, clf__estimator__min_samples_split=2, clf__estimator__n_estimators=10, tfidf__use_idf=False, vect__max_df=1.0 \n"
     ]
    },
    {
     "name": "stderr",
     "output_type": "stream",
     "text": [
      "[Parallel(n_jobs=-1)]: Done   9 out of   9 | elapsed:  9.5min remaining:    0.0s\n"
     ]
    },
    {
     "name": "stdout",
     "output_type": "stream",
     "text": [
      "[CV]  clf__estimator__max_features=auto, clf__estimator__min_samples_split=2, clf__estimator__n_estimators=10, tfidf__use_idf=False, vect__max_df=1.0, score=0.9445249720272607, total=  51.2s\n",
      "[CV] clf__estimator__max_features=auto, clf__estimator__min_samples_split=2, clf__estimator__n_estimators=10, tfidf__use_idf=False, vect__max_df=1.0 \n",
      "[CV]  clf__estimator__max_features=auto, clf__estimator__min_samples_split=2, clf__estimator__n_estimators=10, tfidf__use_idf=False, vect__max_df=1.0, score=0.9447114569558879, total=  50.3s\n",
      "[CV] clf__estimator__max_features=auto, clf__estimator__min_samples_split=2, clf__estimator__n_estimators=10, tfidf__use_idf=False, vect__max_df=1.0 \n",
      "[CV]  clf__estimator__max_features=auto, clf__estimator__min_samples_split=2, clf__estimator__n_estimators=10, tfidf__use_idf=False, vect__max_df=1.0, score=0.9436561217916116, total=  50.3s\n",
      "[CV] clf__estimator__max_features=auto, clf__estimator__min_samples_split=2, clf__estimator__n_estimators=25, tfidf__use_idf=True, vect__max_df=0.8 \n",
      "[CV]  clf__estimator__max_features=auto, clf__estimator__min_samples_split=2, clf__estimator__n_estimators=25, tfidf__use_idf=True, vect__max_df=0.8, score=0.9474112501271491, total= 1.7min\n",
      "[CV] clf__estimator__max_features=auto, clf__estimator__min_samples_split=2, clf__estimator__n_estimators=25, tfidf__use_idf=True, vect__max_df=0.8 \n",
      "[CV]  clf__estimator__max_features=auto, clf__estimator__min_samples_split=2, clf__estimator__n_estimators=25, tfidf__use_idf=True, vect__max_df=0.8, score=0.9472798630183434, total= 1.7min\n",
      "[CV] clf__estimator__max_features=auto, clf__estimator__min_samples_split=2, clf__estimator__n_estimators=25, tfidf__use_idf=True, vect__max_df=0.8 \n",
      "[CV]  clf__estimator__max_features=auto, clf__estimator__min_samples_split=2, clf__estimator__n_estimators=25, tfidf__use_idf=True, vect__max_df=0.8, score=0.9466356423558133, total= 1.7min\n",
      "[CV] clf__estimator__max_features=auto, clf__estimator__min_samples_split=2, clf__estimator__n_estimators=25, tfidf__use_idf=True, vect__max_df=1.0 \n",
      "[CV]  clf__estimator__max_features=auto, clf__estimator__min_samples_split=2, clf__estimator__n_estimators=25, tfidf__use_idf=True, vect__max_df=1.0, score=0.9471484759095381, total= 1.7min\n",
      "[CV] clf__estimator__max_features=auto, clf__estimator__min_samples_split=2, clf__estimator__n_estimators=25, tfidf__use_idf=True, vect__max_df=1.0 \n",
      "[CV]  clf__estimator__max_features=auto, clf__estimator__min_samples_split=2, clf__estimator__n_estimators=25, tfidf__use_idf=True, vect__max_df=1.0, score=0.9474621096531382, total= 1.7min\n",
      "[CV] clf__estimator__max_features=auto, clf__estimator__min_samples_split=2, clf__estimator__n_estimators=25, tfidf__use_idf=True, vect__max_df=1.0 \n",
      "[CV]  clf__estimator__max_features=auto, clf__estimator__min_samples_split=2, clf__estimator__n_estimators=25, tfidf__use_idf=True, vect__max_df=1.0, score=0.946495778659343, total= 1.7min\n",
      "[CV] clf__estimator__max_features=auto, clf__estimator__min_samples_split=2, clf__estimator__n_estimators=25, tfidf__use_idf=False, vect__max_df=0.8 \n",
      "[CV]  clf__estimator__max_features=auto, clf__estimator__min_samples_split=2, clf__estimator__n_estimators=25, tfidf__use_idf=False, vect__max_df=0.8, score=0.9471060929712137, total= 1.7min\n",
      "[CV] clf__estimator__max_features=auto, clf__estimator__min_samples_split=2, clf__estimator__n_estimators=25, tfidf__use_idf=False, vect__max_df=0.8 \n",
      "[CV]  clf__estimator__max_features=auto, clf__estimator__min_samples_split=2, clf__estimator__n_estimators=25, tfidf__use_idf=False, vect__max_df=0.8, score=0.9474578713593055, total= 1.7min\n",
      "[CV] clf__estimator__max_features=auto, clf__estimator__min_samples_split=2, clf__estimator__n_estimators=25, tfidf__use_idf=False, vect__max_df=0.8 \n",
      "[CV]  clf__estimator__max_features=auto, clf__estimator__min_samples_split=2, clf__estimator__n_estimators=25, tfidf__use_idf=False, vect__max_df=0.8, score=0.9471018546773813, total= 1.7min\n",
      "[CV] clf__estimator__max_features=auto, clf__estimator__min_samples_split=2, clf__estimator__n_estimators=25, tfidf__use_idf=False, vect__max_df=1.0 \n",
      "[CV]  clf__estimator__max_features=auto, clf__estimator__min_samples_split=2, clf__estimator__n_estimators=25, tfidf__use_idf=False, vect__max_df=1.0, score=0.9477926965720681, total= 1.7min\n",
      "[CV] clf__estimator__max_features=auto, clf__estimator__min_samples_split=2, clf__estimator__n_estimators=25, tfidf__use_idf=False, vect__max_df=1.0 \n",
      "[CV]  clf__estimator__max_features=auto, clf__estimator__min_samples_split=2, clf__estimator__n_estimators=25, tfidf__use_idf=False, vect__max_df=1.0, score=0.9474493947716406, total= 1.7min\n",
      "[CV] clf__estimator__max_features=auto, clf__estimator__min_samples_split=2, clf__estimator__n_estimators=25, tfidf__use_idf=False, vect__max_df=1.0 \n",
      "[CV]  clf__estimator__max_features=auto, clf__estimator__min_samples_split=2, clf__estimator__n_estimators=25, tfidf__use_idf=False, vect__max_df=1.0, score=0.9471442376157054, total= 1.7min\n",
      "[CV] clf__estimator__max_features=auto, clf__estimator__min_samples_split=4, clf__estimator__n_estimators=10, tfidf__use_idf=True, vect__max_df=0.8 \n",
      "[CV]  clf__estimator__max_features=auto, clf__estimator__min_samples_split=4, clf__estimator__n_estimators=10, tfidf__use_idf=True, vect__max_df=0.8, score=0.9455675923100397, total=  44.8s\n",
      "[CV] clf__estimator__max_features=auto, clf__estimator__min_samples_split=4, clf__estimator__n_estimators=10, tfidf__use_idf=True, vect__max_df=0.8 \n",
      "[CV]  clf__estimator__max_features=auto, clf__estimator__min_samples_split=4, clf__estimator__n_estimators=10, tfidf__use_idf=True, vect__max_df=0.8, score=0.9458473197029805, total=  44.5s\n",
      "[CV] clf__estimator__max_features=auto, clf__estimator__min_samples_split=4, clf__estimator__n_estimators=10, tfidf__use_idf=True, vect__max_df=0.8 \n",
      "[CV]  clf__estimator__max_features=auto, clf__estimator__min_samples_split=4, clf__estimator__n_estimators=10, tfidf__use_idf=True, vect__max_df=0.8, score=0.9454616349642289, total=  44.5s\n",
      "[CV] clf__estimator__max_features=auto, clf__estimator__min_samples_split=4, clf__estimator__n_estimators=10, tfidf__use_idf=True, vect__max_df=1.0 \n",
      "[CV]  clf__estimator__max_features=auto, clf__estimator__min_samples_split=4, clf__estimator__n_estimators=10, tfidf__use_idf=True, vect__max_df=1.0, score=0.9459617536364563, total=  44.1s\n",
      "[CV] clf__estimator__max_features=auto, clf__estimator__min_samples_split=4, clf__estimator__n_estimators=10, tfidf__use_idf=True, vect__max_df=1.0 \n",
      "[CV]  clf__estimator__max_features=auto, clf__estimator__min_samples_split=4, clf__estimator__n_estimators=10, tfidf__use_idf=True, vect__max_df=1.0, score=0.9452073373342829, total=  44.2s\n",
      "[CV] clf__estimator__max_features=auto, clf__estimator__min_samples_split=4, clf__estimator__n_estimators=10, tfidf__use_idf=True, vect__max_df=1.0 \n",
      "[CV]  clf__estimator__max_features=auto, clf__estimator__min_samples_split=4, clf__estimator__n_estimators=10, tfidf__use_idf=True, vect__max_df=1.0, score=0.9456014986606992, total=  44.0s\n",
      "[CV] clf__estimator__max_features=auto, clf__estimator__min_samples_split=4, clf__estimator__n_estimators=10, tfidf__use_idf=False, vect__max_df=0.8 \n",
      "[CV]  clf__estimator__max_features=auto, clf__estimator__min_samples_split=4, clf__estimator__n_estimators=10, tfidf__use_idf=False, vect__max_df=0.8, score=0.9454192520259047, total=  44.0s\n",
      "[CV] clf__estimator__max_features=auto, clf__estimator__min_samples_split=4, clf__estimator__n_estimators=10, tfidf__use_idf=False, vect__max_df=0.8 \n",
      "[CV]  clf__estimator__max_features=auto, clf__estimator__min_samples_split=4, clf__estimator__n_estimators=10, tfidf__use_idf=False, vect__max_df=0.8, score=0.9451734309836234, total=  44.1s\n",
      "[CV] clf__estimator__max_features=auto, clf__estimator__min_samples_split=4, clf__estimator__n_estimators=10, tfidf__use_idf=False, vect__max_df=0.8 \n",
      "[CV]  clf__estimator__max_features=auto, clf__estimator__min_samples_split=4, clf__estimator__n_estimators=10, tfidf__use_idf=False, vect__max_df=0.8, score=0.9451098565761369, total=  43.9s\n",
      "[CV] clf__estimator__max_features=auto, clf__estimator__min_samples_split=4, clf__estimator__n_estimators=10, tfidf__use_idf=False, vect__max_df=1.0 \n",
      "[CV]  clf__estimator__max_features=auto, clf__estimator__min_samples_split=4, clf__estimator__n_estimators=10, tfidf__use_idf=False, vect__max_df=1.0, score=0.9458388431153156, total=  44.1s\n",
      "[CV] clf__estimator__max_features=auto, clf__estimator__min_samples_split=4, clf__estimator__n_estimators=10, tfidf__use_idf=False, vect__max_df=1.0 \n"
     ]
    },
    {
     "name": "stdout",
     "output_type": "stream",
     "text": [
      "[CV]  clf__estimator__max_features=auto, clf__estimator__min_samples_split=4, clf__estimator__n_estimators=10, tfidf__use_idf=False, vect__max_df=1.0, score=0.9455887837792019, total=  44.7s\n",
      "[CV] clf__estimator__max_features=auto, clf__estimator__min_samples_split=4, clf__estimator__n_estimators=10, tfidf__use_idf=False, vect__max_df=1.0 \n",
      "[CV]  clf__estimator__max_features=auto, clf__estimator__min_samples_split=4, clf__estimator__n_estimators=10, tfidf__use_idf=False, vect__max_df=1.0, score=0.9453260095615909, total=  44.5s\n",
      "[CV] clf__estimator__max_features=auto, clf__estimator__min_samples_split=4, clf__estimator__n_estimators=25, tfidf__use_idf=True, vect__max_df=0.8 \n",
      "[CV]  clf__estimator__max_features=auto, clf__estimator__min_samples_split=4, clf__estimator__n_estimators=25, tfidf__use_idf=True, vect__max_df=0.8, score=0.9473349608381653, total= 1.5min\n",
      "[CV] clf__estimator__max_features=auto, clf__estimator__min_samples_split=4, clf__estimator__n_estimators=25, tfidf__use_idf=True, vect__max_df=0.8 \n",
      "[CV]  clf__estimator__max_features=auto, clf__estimator__min_samples_split=4, clf__estimator__n_estimators=25, tfidf__use_idf=True, vect__max_df=0.8, score=0.9472925778998407, total= 1.5min\n",
      "[CV] clf__estimator__max_features=auto, clf__estimator__min_samples_split=4, clf__estimator__n_estimators=25, tfidf__use_idf=True, vect__max_df=0.8 \n",
      "[CV]  clf__estimator__max_features=auto, clf__estimator__min_samples_split=4, clf__estimator__n_estimators=25, tfidf__use_idf=True, vect__max_df=0.8, score=0.947334960838165, total= 1.5min\n",
      "[CV] clf__estimator__max_features=auto, clf__estimator__min_samples_split=4, clf__estimator__n_estimators=25, tfidf__use_idf=True, vect__max_df=1.0 \n",
      "[CV]  clf__estimator__max_features=auto, clf__estimator__min_samples_split=4, clf__estimator__n_estimators=25, tfidf__use_idf=True, vect__max_df=1.0, score=0.94783084121656, total= 1.5min\n",
      "[CV] clf__estimator__max_features=auto, clf__estimator__min_samples_split=4, clf__estimator__n_estimators=25, tfidf__use_idf=True, vect__max_df=1.0 \n",
      "[CV]  clf__estimator__max_features=auto, clf__estimator__min_samples_split=4, clf__estimator__n_estimators=25, tfidf__use_idf=True, vect__max_df=1.0, score=0.9474112501271489, total= 1.5min\n",
      "[CV] clf__estimator__max_features=auto, clf__estimator__min_samples_split=4, clf__estimator__n_estimators=25, tfidf__use_idf=True, vect__max_df=1.0 \n",
      "[CV]  clf__estimator__max_features=auto, clf__estimator__min_samples_split=4, clf__estimator__n_estimators=25, tfidf__use_idf=True, vect__max_df=1.0, score=0.9473137693690029, total= 1.5min\n",
      "[CV] clf__estimator__max_features=auto, clf__estimator__min_samples_split=4, clf__estimator__n_estimators=25, tfidf__use_idf=False, vect__max_df=0.8 \n",
      "[CV]  clf__estimator__max_features=auto, clf__estimator__min_samples_split=4, clf__estimator__n_estimators=25, tfidf__use_idf=False, vect__max_df=0.8, score=0.9477206455769167, total= 1.5min\n",
      "[CV] clf__estimator__max_features=auto, clf__estimator__min_samples_split=4, clf__estimator__n_estimators=25, tfidf__use_idf=False, vect__max_df=0.8 \n",
      "[CV]  clf__estimator__max_features=auto, clf__estimator__min_samples_split=4, clf__estimator__n_estimators=25, tfidf__use_idf=False, vect__max_df=0.8, score=0.9477418370460787, total= 1.5min\n",
      "[CV] clf__estimator__max_features=auto, clf__estimator__min_samples_split=4, clf__estimator__n_estimators=25, tfidf__use_idf=False, vect__max_df=0.8 \n",
      "[CV]  clf__estimator__max_features=auto, clf__estimator__min_samples_split=4, clf__estimator__n_estimators=25, tfidf__use_idf=False, vect__max_df=0.8, score=0.9473985352456515, total= 1.5min\n",
      "[CV] clf__estimator__max_features=auto, clf__estimator__min_samples_split=4, clf__estimator__n_estimators=25, tfidf__use_idf=False, vect__max_df=1.0 \n",
      "[CV]  clf__estimator__max_features=auto, clf__estimator__min_samples_split=4, clf__estimator__n_estimators=25, tfidf__use_idf=False, vect__max_df=1.0, score=0.9480258027328519, total= 1.5min\n",
      "[CV] clf__estimator__max_features=auto, clf__estimator__min_samples_split=4, clf__estimator__n_estimators=25, tfidf__use_idf=False, vect__max_df=1.0 \n",
      "[CV]  clf__estimator__max_features=auto, clf__estimator__min_samples_split=4, clf__estimator__n_estimators=25, tfidf__use_idf=False, vect__max_df=1.0, score=0.9473095310751705, total= 1.5min\n",
      "[CV] clf__estimator__max_features=auto, clf__estimator__min_samples_split=4, clf__estimator__n_estimators=25, tfidf__use_idf=False, vect__max_df=1.0 \n",
      "[CV]  clf__estimator__max_features=auto, clf__estimator__min_samples_split=4, clf__estimator__n_estimators=25, tfidf__use_idf=False, vect__max_df=1.0, score=0.9470679483267218, total= 1.5min\n",
      "[CV] clf__estimator__max_features=log2, clf__estimator__min_samples_split=2, clf__estimator__n_estimators=10, tfidf__use_idf=True, vect__max_df=0.8 \n",
      "[CV]  clf__estimator__max_features=log2, clf__estimator__min_samples_split=2, clf__estimator__n_estimators=10, tfidf__use_idf=True, vect__max_df=0.8, score=0.9373876852134404, total= 1.0min\n",
      "[CV] clf__estimator__max_features=log2, clf__estimator__min_samples_split=2, clf__estimator__n_estimators=10, tfidf__use_idf=True, vect__max_df=0.8 \n",
      "[CV]  clf__estimator__max_features=log2, clf__estimator__min_samples_split=2, clf__estimator__n_estimators=10, tfidf__use_idf=True, vect__max_df=0.8, score=0.9375868850235649, total= 1.0min\n",
      "[CV] clf__estimator__max_features=log2, clf__estimator__min_samples_split=2, clf__estimator__n_estimators=10, tfidf__use_idf=True, vect__max_df=0.8 \n",
      "[CV]  clf__estimator__max_features=log2, clf__estimator__min_samples_split=2, clf__estimator__n_estimators=10, tfidf__use_idf=True, vect__max_df=0.8, score=0.9370316685315159, total= 1.0min\n",
      "[CV] clf__estimator__max_features=log2, clf__estimator__min_samples_split=2, clf__estimator__n_estimators=10, tfidf__use_idf=True, vect__max_df=1.0 \n",
      "[CV]  clf__estimator__max_features=log2, clf__estimator__min_samples_split=2, clf__estimator__n_estimators=10, tfidf__use_idf=True, vect__max_df=1.0, score=0.9375360254975755, total= 1.0min\n",
      "[CV] clf__estimator__max_features=log2, clf__estimator__min_samples_split=2, clf__estimator__n_estimators=10, tfidf__use_idf=True, vect__max_df=1.0 \n",
      "[CV]  clf__estimator__max_features=log2, clf__estimator__min_samples_split=2, clf__estimator__n_estimators=10, tfidf__use_idf=True, vect__max_df=1.0, score=0.9378920421795003, total= 1.0min\n",
      "[CV] clf__estimator__max_features=log2, clf__estimator__min_samples_split=2, clf__estimator__n_estimators=10, tfidf__use_idf=True, vect__max_df=1.0 \n",
      "[CV]  clf__estimator__max_features=log2, clf__estimator__min_samples_split=2, clf__estimator__n_estimators=10, tfidf__use_idf=True, vect__max_df=1.0, score=0.9369977621808564, total= 1.0min\n",
      "[CV] clf__estimator__max_features=log2, clf__estimator__min_samples_split=2, clf__estimator__n_estimators=10, tfidf__use_idf=False, vect__max_df=0.8 \n",
      "[CV]  clf__estimator__max_features=log2, clf__estimator__min_samples_split=2, clf__estimator__n_estimators=10, tfidf__use_idf=False, vect__max_df=0.8, score=0.9375317872037431, total= 1.0min\n",
      "[CV] clf__estimator__max_features=log2, clf__estimator__min_samples_split=2, clf__estimator__n_estimators=10, tfidf__use_idf=False, vect__max_df=0.8 \n",
      "[CV]  clf__estimator__max_features=log2, clf__estimator__min_samples_split=2, clf__estimator__n_estimators=10, tfidf__use_idf=False, vect__max_df=0.8, score=0.9371503407588242, total= 1.0min\n",
      "[CV] clf__estimator__max_features=log2, clf__estimator__min_samples_split=2, clf__estimator__n_estimators=10, tfidf__use_idf=False, vect__max_df=0.8 \n",
      "[CV]  clf__estimator__max_features=log2, clf__estimator__min_samples_split=2, clf__estimator__n_estimators=10, tfidf__use_idf=False, vect__max_df=0.8, score=0.9370062387685212, total= 1.0min\n",
      "[CV] clf__estimator__max_features=log2, clf__estimator__min_samples_split=2, clf__estimator__n_estimators=10, tfidf__use_idf=False, vect__max_df=1.0 \n",
      "[CV]  clf__estimator__max_features=log2, clf__estimator__min_samples_split=2, clf__estimator__n_estimators=10, tfidf__use_idf=False, vect__max_df=1.0, score=0.9374215915640998, total= 1.0min\n",
      "[CV] clf__estimator__max_features=log2, clf__estimator__min_samples_split=2, clf__estimator__n_estimators=10, tfidf__use_idf=False, vect__max_df=1.0 \n",
      "[CV]  clf__estimator__max_features=log2, clf__estimator__min_samples_split=2, clf__estimator__n_estimators=10, tfidf__use_idf=False, vect__max_df=1.0, score=0.9373198725121217, total= 1.0min\n",
      "[CV] clf__estimator__max_features=log2, clf__estimator__min_samples_split=2, clf__estimator__n_estimators=10, tfidf__use_idf=False, vect__max_df=1.0 \n"
     ]
    },
    {
     "name": "stdout",
     "output_type": "stream",
     "text": [
      "[CV]  clf__estimator__max_features=log2, clf__estimator__min_samples_split=2, clf__estimator__n_estimators=10, tfidf__use_idf=False, vect__max_df=1.0, score=0.9361289119452072, total= 1.0min\n",
      "[CV] clf__estimator__max_features=log2, clf__estimator__min_samples_split=2, clf__estimator__n_estimators=25, tfidf__use_idf=True, vect__max_df=0.8 \n",
      "[CV]  clf__estimator__max_features=log2, clf__estimator__min_samples_split=2, clf__estimator__n_estimators=25, tfidf__use_idf=True, vect__max_df=0.8, score=0.9401552910860206, total= 2.2min\n",
      "[CV] clf__estimator__max_features=log2, clf__estimator__min_samples_split=2, clf__estimator__n_estimators=25, tfidf__use_idf=True, vect__max_df=0.8 \n",
      "[CV]  clf__estimator__max_features=log2, clf__estimator__min_samples_split=2, clf__estimator__n_estimators=25, tfidf__use_idf=True, vect__max_df=0.8, score=0.9403544908961451, total= 2.2min\n",
      "[CV] clf__estimator__max_features=log2, clf__estimator__min_samples_split=2, clf__estimator__n_estimators=25, tfidf__use_idf=True, vect__max_df=0.8 \n",
      "[CV]  clf__estimator__max_features=log2, clf__estimator__min_samples_split=2, clf__estimator__n_estimators=25, tfidf__use_idf=True, vect__max_df=0.8, score=0.9398289424609231, total= 2.2min\n",
      "[CV] clf__estimator__max_features=log2, clf__estimator__min_samples_split=2, clf__estimator__n_estimators=25, tfidf__use_idf=True, vect__max_df=1.0 \n",
      "[CV]  clf__estimator__max_features=log2, clf__estimator__min_samples_split=2, clf__estimator__n_estimators=25, tfidf__use_idf=True, vect__max_df=1.0, score=0.939731461702777, total= 2.2min\n",
      "[CV] clf__estimator__max_features=log2, clf__estimator__min_samples_split=2, clf__estimator__n_estimators=25, tfidf__use_idf=True, vect__max_df=1.0 \n",
      "[CV]  clf__estimator__max_features=log2, clf__estimator__min_samples_split=2, clf__estimator__n_estimators=25, tfidf__use_idf=True, vect__max_df=1.0, score=0.9403714440714747, total= 2.2min\n",
      "[CV] clf__estimator__max_features=log2, clf__estimator__min_samples_split=2, clf__estimator__n_estimators=25, tfidf__use_idf=True, vect__max_df=1.0 \n",
      "[CV]  clf__estimator__max_features=log2, clf__estimator__min_samples_split=2, clf__estimator__n_estimators=25, tfidf__use_idf=True, vect__max_df=1.0, score=0.9394263045468416, total= 2.2min\n",
      "[CV] clf__estimator__max_features=log2, clf__estimator__min_samples_split=2, clf__estimator__n_estimators=25, tfidf__use_idf=False, vect__max_df=0.8 \n",
      "[CV]  clf__estimator__max_features=log2, clf__estimator__min_samples_split=2, clf__estimator__n_estimators=25, tfidf__use_idf=False, vect__max_df=0.8, score=0.940218865493507, total= 2.2min\n",
      "[CV] clf__estimator__max_features=log2, clf__estimator__min_samples_split=2, clf__estimator__n_estimators=25, tfidf__use_idf=False, vect__max_df=0.8 \n",
      "[CV]  clf__estimator__max_features=log2, clf__estimator__min_samples_split=2, clf__estimator__n_estimators=25, tfidf__use_idf=False, vect__max_df=0.8, score=0.9405197843556099, total= 2.2min\n",
      "[CV] clf__estimator__max_features=log2, clf__estimator__min_samples_split=2, clf__estimator__n_estimators=25, tfidf__use_idf=False, vect__max_df=0.8 \n",
      "[CV]  clf__estimator__max_features=log2, clf__estimator__min_samples_split=2, clf__estimator__n_estimators=25, tfidf__use_idf=False, vect__max_df=0.8, score=0.9396509341199608, total= 2.2min\n",
      "[CV] clf__estimator__max_features=log2, clf__estimator__min_samples_split=2, clf__estimator__n_estimators=25, tfidf__use_idf=False, vect__max_df=1.0 \n",
      "[CV]  clf__estimator__max_features=log2, clf__estimator__min_samples_split=2, clf__estimator__n_estimators=25, tfidf__use_idf=False, vect__max_df=1.0, score=0.9397865595225987, total= 2.2min\n",
      "[CV] clf__estimator__max_features=log2, clf__estimator__min_samples_split=2, clf__estimator__n_estimators=25, tfidf__use_idf=False, vect__max_df=1.0 \n",
      "[CV]  clf__estimator__max_features=log2, clf__estimator__min_samples_split=2, clf__estimator__n_estimators=25, tfidf__use_idf=False, vect__max_df=1.0, score=0.9407571288102266, total= 2.2min\n",
      "[CV] clf__estimator__max_features=log2, clf__estimator__min_samples_split=2, clf__estimator__n_estimators=25, tfidf__use_idf=False, vect__max_df=1.0 \n",
      "[CV]  clf__estimator__max_features=log2, clf__estimator__min_samples_split=2, clf__estimator__n_estimators=25, tfidf__use_idf=False, vect__max_df=1.0, score=0.9394305428406741, total= 2.2min\n",
      "[CV] clf__estimator__max_features=log2, clf__estimator__min_samples_split=4, clf__estimator__n_estimators=10, tfidf__use_idf=True, vect__max_df=0.8 \n",
      "[CV]  clf__estimator__max_features=log2, clf__estimator__min_samples_split=4, clf__estimator__n_estimators=10, tfidf__use_idf=True, vect__max_df=0.8, score=0.9390745261587495, total=  51.5s\n",
      "[CV] clf__estimator__max_features=log2, clf__estimator__min_samples_split=4, clf__estimator__n_estimators=10, tfidf__use_idf=True, vect__max_df=0.8 \n",
      "[CV]  clf__estimator__max_features=log2, clf__estimator__min_samples_split=4, clf__estimator__n_estimators=10, tfidf__use_idf=True, vect__max_df=0.8, score=0.9396085511816364, total=  51.6s\n",
      "[CV] clf__estimator__max_features=log2, clf__estimator__min_samples_split=4, clf__estimator__n_estimators=10, tfidf__use_idf=True, vect__max_df=0.8 \n",
      "[CV]  clf__estimator__max_features=log2, clf__estimator__min_samples_split=4, clf__estimator__n_estimators=10, tfidf__use_idf=True, vect__max_df=0.8, score=0.9384133523208895, total=  51.8s\n",
      "[CV] clf__estimator__max_features=log2, clf__estimator__min_samples_split=4, clf__estimator__n_estimators=10, tfidf__use_idf=True, vect__max_df=1.0 \n",
      "[CV]  clf__estimator__max_features=log2, clf__estimator__min_samples_split=4, clf__estimator__n_estimators=10, tfidf__use_idf=True, vect__max_df=1.0, score=0.9396594107076256, total=  51.8s\n",
      "[CV] clf__estimator__max_features=log2, clf__estimator__min_samples_split=4, clf__estimator__n_estimators=10, tfidf__use_idf=True, vect__max_df=1.0 \n",
      "[CV]  clf__estimator__max_features=log2, clf__estimator__min_samples_split=4, clf__estimator__n_estimators=10, tfidf__use_idf=True, vect__max_df=1.0, score=0.940540975824772, total=  51.6s\n",
      "[CV] clf__estimator__max_features=log2, clf__estimator__min_samples_split=4, clf__estimator__n_estimators=10, tfidf__use_idf=True, vect__max_df=1.0 \n",
      "[CV]  clf__estimator__max_features=log2, clf__estimator__min_samples_split=4, clf__estimator__n_estimators=10, tfidf__use_idf=True, vect__max_df=1.0, score=0.9392398196182145, total=  51.5s\n",
      "[CV] clf__estimator__max_features=log2, clf__estimator__min_samples_split=4, clf__estimator__n_estimators=10, tfidf__use_idf=False, vect__max_df=0.8 \n",
      "[CV]  clf__estimator__max_features=log2, clf__estimator__min_samples_split=4, clf__estimator__n_estimators=10, tfidf__use_idf=False, vect__max_df=0.8, score=0.93888380293629, total=  52.0s\n",
      "[CV] clf__estimator__max_features=log2, clf__estimator__min_samples_split=4, clf__estimator__n_estimators=10, tfidf__use_idf=False, vect__max_df=0.8 \n",
      "[CV]  clf__estimator__max_features=log2, clf__estimator__min_samples_split=4, clf__estimator__n_estimators=10, tfidf__use_idf=False, vect__max_df=0.8, score=0.9389516156376091, total=  51.7s\n",
      "[CV] clf__estimator__max_features=log2, clf__estimator__min_samples_split=4, clf__estimator__n_estimators=10, tfidf__use_idf=False, vect__max_df=0.8 \n",
      "[CV]  clf__estimator__max_features=log2, clf__estimator__min_samples_split=4, clf__estimator__n_estimators=10, tfidf__use_idf=False, vect__max_df=0.8, score=0.9391508154477334, total=  51.4s\n",
      "[CV] clf__estimator__max_features=log2, clf__estimator__min_samples_split=4, clf__estimator__n_estimators=10, tfidf__use_idf=False, vect__max_df=1.0 \n",
      "[CV]  clf__estimator__max_features=log2, clf__estimator__min_samples_split=4, clf__estimator__n_estimators=10, tfidf__use_idf=False, vect__max_df=1.0, score=0.9392482962058794, total=  51.8s\n",
      "[CV] clf__estimator__max_features=log2, clf__estimator__min_samples_split=4, clf__estimator__n_estimators=10, tfidf__use_idf=False, vect__max_df=1.0 \n",
      "[CV]  clf__estimator__max_features=log2, clf__estimator__min_samples_split=4, clf__estimator__n_estimators=10, tfidf__use_idf=False, vect__max_df=1.0, score=0.9392906791442037, total=  52.0s\n",
      "[CV] clf__estimator__max_features=log2, clf__estimator__min_samples_split=4, clf__estimator__n_estimators=10, tfidf__use_idf=False, vect__max_df=1.0 \n",
      "[CV]  clf__estimator__max_features=log2, clf__estimator__min_samples_split=4, clf__estimator__n_estimators=10, tfidf__use_idf=False, vect__max_df=1.0, score=0.9390321432204254, total=  51.7s\n",
      "[CV] clf__estimator__max_features=log2, clf__estimator__min_samples_split=4, clf__estimator__n_estimators=25, tfidf__use_idf=True, vect__max_df=0.8 \n"
     ]
    },
    {
     "name": "stdout",
     "output_type": "stream",
     "text": [
      "[CV]  clf__estimator__max_features=log2, clf__estimator__min_samples_split=4, clf__estimator__n_estimators=25, tfidf__use_idf=True, vect__max_df=0.8, score=0.9404477333604585, total= 1.8min\n",
      "[CV] clf__estimator__max_features=log2, clf__estimator__min_samples_split=4, clf__estimator__n_estimators=25, tfidf__use_idf=True, vect__max_df=0.8 \n",
      "[CV]  clf__estimator__max_features=log2, clf__estimator__min_samples_split=4, clf__estimator__n_estimators=25, tfidf__use_idf=True, vect__max_df=0.8, score=0.9406257417014205, total= 1.8min\n",
      "[CV] clf__estimator__max_features=log2, clf__estimator__min_samples_split=4, clf__estimator__n_estimators=25, tfidf__use_idf=True, vect__max_df=0.8 \n",
      "[CV]  clf__estimator__max_features=log2, clf__estimator__min_samples_split=4, clf__estimator__n_estimators=25, tfidf__use_idf=True, vect__max_df=0.8, score=0.9398628488115826, total= 1.8min\n",
      "[CV] clf__estimator__max_features=log2, clf__estimator__min_samples_split=4, clf__estimator__n_estimators=25, tfidf__use_idf=True, vect__max_df=1.0 \n",
      "[CV]  clf__estimator__max_features=log2, clf__estimator__min_samples_split=4, clf__estimator__n_estimators=25, tfidf__use_idf=True, vect__max_df=1.0, score=0.9404604482419558, total= 1.8min\n",
      "[CV] clf__estimator__max_features=log2, clf__estimator__min_samples_split=4, clf__estimator__n_estimators=25, tfidf__use_idf=True, vect__max_df=1.0 \n",
      "[CV]  clf__estimator__max_features=log2, clf__estimator__min_samples_split=4, clf__estimator__n_estimators=25, tfidf__use_idf=True, vect__max_df=1.0, score=0.9408588478622048, total= 1.8min\n",
      "[CV] clf__estimator__max_features=log2, clf__estimator__min_samples_split=4, clf__estimator__n_estimators=25, tfidf__use_idf=True, vect__max_df=1.0 \n",
      "[CV]  clf__estimator__max_features=log2, clf__estimator__min_samples_split=4, clf__estimator__n_estimators=25, tfidf__use_idf=True, vect__max_df=1.0, score=0.9404265418912963, total= 1.8min\n",
      "[CV] clf__estimator__max_features=log2, clf__estimator__min_samples_split=4, clf__estimator__n_estimators=25, tfidf__use_idf=False, vect__max_df=0.8 \n",
      "[CV]  clf__estimator__max_features=log2, clf__estimator__min_samples_split=4, clf__estimator__n_estimators=25, tfidf__use_idf=False, vect__max_df=0.8, score=0.9404477333604585, total= 1.8min\n",
      "[CV] clf__estimator__max_features=log2, clf__estimator__min_samples_split=4, clf__estimator__n_estimators=25, tfidf__use_idf=False, vect__max_df=0.8 \n",
      "[CV]  clf__estimator__max_features=log2, clf__estimator__min_samples_split=4, clf__estimator__n_estimators=25, tfidf__use_idf=False, vect__max_df=0.8, score=0.9406893161089072, total= 1.8min\n",
      "[CV] clf__estimator__max_features=log2, clf__estimator__min_samples_split=4, clf__estimator__n_estimators=25, tfidf__use_idf=False, vect__max_df=0.8 \n",
      "[CV]  clf__estimator__max_features=log2, clf__estimator__min_samples_split=4, clf__estimator__n_estimators=25, tfidf__use_idf=False, vect__max_df=0.8, score=0.9401934357305125, total= 1.8min\n",
      "[CV] clf__estimator__max_features=log2, clf__estimator__min_samples_split=4, clf__estimator__n_estimators=25, tfidf__use_idf=False, vect__max_df=1.0 \n",
      "[CV]  clf__estimator__max_features=log2, clf__estimator__min_samples_split=4, clf__estimator__n_estimators=25, tfidf__use_idf=False, vect__max_df=1.0, score=0.9404858780049504, total= 1.8min\n",
      "[CV] clf__estimator__max_features=log2, clf__estimator__min_samples_split=4, clf__estimator__n_estimators=25, tfidf__use_idf=False, vect__max_df=1.0 \n",
      "[CV]  clf__estimator__max_features=log2, clf__estimator__min_samples_split=4, clf__estimator__n_estimators=25, tfidf__use_idf=False, vect__max_df=1.0, score=0.9408249415115453, total= 1.8min\n",
      "[CV] clf__estimator__max_features=log2, clf__estimator__min_samples_split=4, clf__estimator__n_estimators=25, tfidf__use_idf=False, vect__max_df=1.0 \n",
      "[CV]  clf__estimator__max_features=log2, clf__estimator__min_samples_split=4, clf__estimator__n_estimators=25, tfidf__use_idf=False, vect__max_df=1.0, score=0.9399306615129015, total= 1.8min\n"
     ]
    },
    {
     "name": "stderr",
     "output_type": "stream",
     "text": [
      "[Parallel(n_jobs=-1)]: Done  96 out of  96 | elapsed: 157.2min finished\n"
     ]
    }
   ],
   "source": [
    "model = cv.fit(X_train,y_train)"
   ]
  },
  {
   "cell_type": "code",
   "execution_count": 14,
   "metadata": {},
   "outputs": [
    {
     "name": "stdout",
     "output_type": "stream",
     "text": [
      "{'clf__estimator__max_features': 'auto', 'clf__estimator__min_samples_split': 4, 'clf__estimator__n_estimators': 25, 'tfidf__use_idf': 'False', 'vect__max_df': 0.8}\n"
     ]
    }
   ],
   "source": [
    "print(model.best_params_)"
   ]
  },
  {
   "cell_type": "markdown",
   "metadata": {},
   "source": [
    "### 7. Test your model\n",
    "Show the accuracy, precision, and recall of the tuned model.  \n",
    "\n",
    "Since this project focuses on code quality, process, and  pipelines, there is no minimum performance metric needed to pass. However, make sure to fine tune your models for accuracy, precision and recall to make your project stand out - especially for your portfolio!"
   ]
  },
  {
   "cell_type": "code",
   "execution_count": 17,
   "metadata": {},
   "outputs": [
    {
     "name": "stdout",
     "output_type": "stream",
     "text": [
      "0.944524972027\n"
     ]
    }
   ],
   "source": [
    "from sklearn.metrics import precision_score,recall_score,accuracy_score\n",
    "print(scores(y_test,y_pred))\n",
    "y_pred = model.predict(X_test)"
   ]
  },
  {
   "cell_type": "code",
   "execution_count": 18,
   "metadata": {},
   "outputs": [
    {
     "name": "stdout",
     "output_type": "stream",
     "text": [
      "0.947686739226\n"
     ]
    }
   ],
   "source": [
    "print(scores(y_test,y_pred))"
   ]
  },
  {
   "cell_type": "markdown",
   "metadata": {},
   "source": [
    "### 8. Try improving your model further. Here are a few ideas:\n",
    "* try other machine learning algorithms\n",
    "* add other features besides the TF-IDF"
   ]
  },
  {
   "cell_type": "code",
   "execution_count": 19,
   "metadata": {},
   "outputs": [
    {
     "data": {
      "text/plain": [
       "Pipeline(memory=None,\n",
       "     steps=[('vect', CountVectorizer(analyzer='word', binary=False, decode_error='strict',\n",
       "        dtype=<class 'numpy.int64'>, encoding='utf-8', input='content',\n",
       "        lowercase=True, max_df=0.8, max_features=None, min_df=1,\n",
       "        ngram_range=(1, 1), preprocessor=None, stop_words=None,\n",
       "        strip...oob_score=False, random_state=None, verbose=0,\n",
       "            warm_start=False),\n",
       "           n_jobs=1))])"
      ]
     },
     "execution_count": 19,
     "metadata": {},
     "output_type": "execute_result"
    }
   ],
   "source": [
    "model.best_estimator_"
   ]
  },
  {
   "cell_type": "markdown",
   "metadata": {},
   "source": [
    "### 9. Export your model as a pickle file"
   ]
  },
  {
   "cell_type": "code",
   "execution_count": null,
   "metadata": {},
   "outputs": [],
   "source": [
    "import joblib\n",
    "joblib.dump"
   ]
  },
  {
   "cell_type": "markdown",
   "metadata": {},
   "source": [
    "### 10. Use this notebook to complete `train.py`\n",
    "Use the template file attached in the Resources folder to write a script that runs the steps above to create a database and export a model based on a new dataset specified by the user."
   ]
  },
  {
   "cell_type": "code",
   "execution_count": null,
   "metadata": {},
   "outputs": [],
   "source": []
  }
 ],
 "metadata": {
  "kernelspec": {
   "display_name": "Python 3",
   "language": "python",
   "name": "python3"
  },
  "language_info": {
   "codemirror_mode": {
    "name": "ipython",
    "version": 3
   },
   "file_extension": ".py",
   "mimetype": "text/x-python",
   "name": "python",
   "nbconvert_exporter": "python",
   "pygments_lexer": "ipython3",
   "version": "3.7.6"
  }
 },
 "nbformat": 4,
 "nbformat_minor": 2
}
